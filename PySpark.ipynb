{
 "metadata": {
  "name": "",
  "signature": "sha256:0074e2c6a1a324bd097571afa7958d0e4b0a49ad3430a71db8c66d88336d7159"
 },
 "nbformat": 3,
 "nbformat_minor": 0,
 "worksheets": [
  {
   "cells": [
    {
     "cell_type": "heading",
     "level": 3,
     "metadata": {},
     "source": [
      "Start Spark 1.0.2"
     ]
    },
    {
     "cell_type": "code",
     "collapsed": false,
     "input": [
      "import os\n",
      "import sys\n",
      " \n",
      "spark_home = os.environ.get('SPARK_HOME', None)\n",
      "if not spark_home:\n",
      "    raise ValueError('SPARK_HOME environment variable is not set')\n",
      "sys.path.insert(0, os.path.join(spark_home, 'python'))\n",
      "sys.path.insert(0, os.path.join(spark_home, 'python/lib/py4j-0.8.1-src.zip'))\n",
      "execfile(os.path.join(spark_home, 'python/pyspark/shell.py'))"
     ],
     "language": "python",
     "metadata": {},
     "outputs": [
      {
       "output_type": "stream",
       "stream": "stdout",
       "text": [
        "Welcome to\n",
        "      ____              __\n",
        "     / __/__  ___ _____/ /__\n",
        "    _\\ \\/ _ \\/ _ `/ __/  '_/\n",
        "   /__ / .__/\\_,_/_/ /_/\\_\\   version 1.0.2\n",
        "      /_/\n",
        "\n",
        "Using Python version 2.7.8 (default, Jul  2 2014 15:12:11)\n",
        "SparkContext available as sc.\n"
       ]
      }
     ],
     "prompt_number": 2
    },
    {
     "cell_type": "heading",
     "level": 3,
     "metadata": {},
     "source": [
      "Start Spark 1.3.0"
     ]
    },
    {
     "cell_type": "code",
     "collapsed": false,
     "input": [
      "import os\n",
      "import sys \n",
      "#spark_home = os.environ.get('SPARK_HOME', None)\n",
      "spark_home = \"D:/spark-1.3.0-bin-hadoop2.4\"\n",
      "if not spark_home:\n",
      "    raise ValueError('SPARK_HOME environment variable is not set')\n",
      "sys.path.insert(0, os.path.join(spark_home, 'python'))\n",
      "sys.path.insert(0, os.path.join(spark_home, 'python/lib/py4j-0.8.2.1-src.zip'))\n",
      "execfile(os.path.join(spark_home, 'python/pyspark/shell.py'))"
     ],
     "language": "python",
     "metadata": {},
     "outputs": [
      {
       "output_type": "stream",
       "stream": "stdout",
       "text": [
        "Welcome to\n",
        "      ____              __\n",
        "     / __/__  ___ _____/ /__\n",
        "    _\\ \\/ _ \\/ _ `/ __/  '_/\n",
        "   /__ / .__/\\_,_/_/ /_/\\_\\   version 1.3.0\n",
        "      /_/\n",
        "\n",
        "Using Python version 2.7.8 (default, Jul  2 2014 15:12:11)\n",
        "SparkContext available as sc, HiveContext available as sqlCtx.\n"
       ]
      }
     ],
     "prompt_number": 1
    },
    {
     "cell_type": "heading",
     "level": 3,
     "metadata": {},
     "source": [
      "Testing with Spark"
     ]
    },
    {
     "cell_type": "code",
     "collapsed": false,
     "input": [
      "#import os\n",
      "text_file=sc.textFile(spark_home + \"/README.md\")\n",
      "word_counts = text_file \\\n",
      "    .flatMap(lambda line: line.split()) \\\n",
      "    .map(lambda word: (word, 1)) \\\n",
      "    .reduceByKey(lambda a, b: a + b)\n",
      "result = word_counts.collect()"
     ],
     "language": "python",
     "metadata": {},
     "outputs": [],
     "prompt_number": 2
    },
    {
     "cell_type": "heading",
     "level": 4,
     "metadata": {},
     "source": [
      "#build Trips table"
     ]
    },
    {
     "cell_type": "code",
     "collapsed": false,
     "input": [
      "from pyspark.sql import SQLContext\n",
      "sqlContext = SQLContext(sc)\n",
      "\n",
      "lines = sc.textFile(\"file:///D:/Projects/DSP/NYC_Taxi/Unzipped_NYC_Taxi/trip_sample.csv\")\n",
      "header = lines.first();\n",
      "lines = lines.filter(lambda line: line!=header)\n",
      "#temp=lines.sample(False, 0.000001, 12345)\n",
      "parts = lines.map(lambda line: line.split(\",\"))\n",
      "cleanedParts = parts.filter(lambda arr: len(arr)==14)\n",
      "trips=cleanedParts.map(lambda t : {\"medallion\": t[0], \"hack_license\": t[1], \"vendor_id\": t[2], \"rate_code\": t[3], \"store_and_fwd_flag\": t[4], \"pickup_datetime\": t[5], \"dropoff_datetime\": t[6], \"passenger_count\": t[7], \"trip_time_in_secs\": t[8], \"trip_distance\": t[9], \"pickup_longitude\": t[10], \"pickup_latitude\": t[11], \"dropoff_longitude\": t[12], \"dropoff_latitude\": t[13]})\n",
      "schemaTrips = sqlContext.inferSchema(trips)\n",
      "schemaTrips.registerTempTable(\"Trips\")\n",
      "results=sqlContext.sql(\"SELECT COUNT(*) FROM Trips \");\n",
      "for line  in results.collect():\n",
      "    print line"
     ],
     "language": "python",
     "metadata": {},
     "outputs": [
      {
       "output_type": "stream",
       "stream": "stdout",
       "text": [
        "Row(c0=14)\n"
       ]
      }
     ],
     "prompt_number": 21
    },
    {
     "cell_type": "heading",
     "level": 4,
     "metadata": {},
     "source": [
      "#build Fares table"
     ]
    },
    {
     "cell_type": "code",
     "collapsed": false,
     "input": [
      "lines = sc.textFile(\"file:///D:/Projects/DSP/NYC_Taxi/Unzipped_NYC_Taxi/fare_sample.csv\")\n",
      "header = lines.first();\n",
      "lines = lines.filter(lambda line: line!=header)\n",
      "#temp=lines.sample(False, 0.000001, 12345)\n",
      "parts = lines.map(lambda line: line.split(\",\"))\n",
      "cleanedParts = parts.filter(lambda arr: len(arr)==11)\n",
      "fares=cleanedParts.map(lambda t : {\"medallion\": t[0], \"hack_license\": t[1], \"vendor_id\": t[2], \"pickup_datetime\": t[3], \"payment_type\": t[4], \"fare_amount\": t[5], \"surcharge\": t[6], \"mta_tax\": t[7], \"tip_amount\": t[8], \"tolls_amount\": t[9], \"total_amount\" : t[10]})\n",
      "schemaFares = sqlContext.inferSchema(fares)\n",
      "schemaFares.registerTempTable(\"Fares\")\n",
      "results=sqlContext.sql(\"SELECT *  FROM Fares LIMIT 3\");    \n",
      "results.show(2)\n"
     ],
     "language": "python",
     "metadata": {},
     "outputs": [
      {
       "output_type": "stream",
       "stream": "stdout",
       "text": [
        "fare_amount hack_license         medallion            mta_tax payment_type pickup_datetime     surcharge tip_amount tolls_amount total_amount vendor_id\n",
        "6.5         BA96DE419E711691B... 89D227B655E5C82AE... 0.5     CSH          2013-01-01 15:11:48 0         0          0            7            CMT      \n",
        "6           9FD8F69F0804BDB55... 0BD7C8F5BA12B88E0... 0.5     CSH          2013-01-06 00:18:35 0.5       0          0            7            CMT      \n"
       ]
      }
     ],
     "prompt_number": 38
    },
    {
     "cell_type": "heading",
     "level": 4,
     "metadata": {},
     "source": [
      "# join Trips and Fares table"
     ]
    },
    {
     "cell_type": "code",
     "collapsed": false,
     "input": [
      "results = sqlContext.sql(\"SELECT * FROM Trips t JOIN Fares f ON t.medallion = f.medallion\")\n",
      "\n",
      "results.show()"
     ],
     "language": "python",
     "metadata": {},
     "outputs": [
      {
       "output_type": "stream",
       "stream": "stdout",
       "text": [
        "dropoff_datetime    dropoff_latitude dropoff_longitude hack_license         medallion            passenger_count pickup_datetime     pickup_latitude pickup_longitude rate_code store_and_fwd_flag trip_distance trip_time_in_secs vendor_id fare_amount hack_license         medallion            mta_tax payment_type pickup_datetime     surcharge tip_amount tolls_amount total_amount vendor_id\n",
        "2013-01-01 15:18:10 40.751171        -73.989838        BA96DE419E711691B... 89D227B655E5C82AE... 4               2013-01-01 15:11:48 40.757977       -73.978165       1         N                  1.00          382               CMT       6.5         BA96DE419E711691B... 89D227B655E5C82AE... 0.5     CSH          2013-01-01 15:11:48 0         0          0            7            CMT      \n",
        "2013-01-06 00:22:54 40.75066         -73.994499        9FD8F69F0804BDB55... 0BD7C8F5BA12B88E0... 1               2013-01-06 00:18:35 40.731781       -74.006683       1         N                  1.50          259               CMT       6           9FD8F69F0804BDB55... 0BD7C8F5BA12B88E0... 0.5     CSH          2013-01-06 00:18:35 0.5       0          0            7            CMT      \n",
        "2013-01-06 00:22:54 40.75066         -73.994499        9FD8F69F0804BDB55... 0BD7C8F5BA12B88E0... 1               2013-01-06 00:18:35 40.731781       -74.006683       1         N                  1.50          259               CMT       5.5         9FD8F69F0804BDB55... 0BD7C8F5BA12B88E0... 0.5     CSH          2013-01-05 18:49:41 1         0          0            7            CMT      \n",
        "2013-01-05 18:54:23 40.726002        -74.009834        9FD8F69F0804BDB55... 0BD7C8F5BA12B88E0... 1               2013-01-05 18:49:41 40.73777        -74.004707       1         N                  1.10          282               CMT       6           9FD8F69F0804BDB55... 0BD7C8F5BA12B88E0... 0.5     CSH          2013-01-06 00:18:35 0.5       0          0            7            CMT      \n",
        "2013-01-05 18:54:23 40.726002        -74.009834        9FD8F69F0804BDB55... 0BD7C8F5BA12B88E0... 1               2013-01-05 18:49:41 40.73777        -74.004707       1         N                  1.10          282               CMT       5.5         9FD8F69F0804BDB55... 0BD7C8F5BA12B88E0... 0.5     CSH          2013-01-05 18:49:41 1         0          0            7            CMT      \n",
        "2013-01-07 18:20:47 40.735336        -73.982712        1DA2F6543A62B8ED9... 2C0E91FF20A856C89... 1               2013-01-07 18:15:47 40.743137       -73.980072       1         N                  .80           299               CMT       5.5         1DA2F6543A62B8ED9... 2C0E91FF20A856C89... 0.5     CSH          2013-01-07 18:15:47 1         0          0            7            CMT      \n",
        "2013-01-07 18:20:47 40.735336        -73.982712        1DA2F6543A62B8ED9... 2C0E91FF20A856C89... 1               2013-01-07 18:15:47 40.743137       -73.980072       1         N                  .80           299               CMT       10.5        1DA2F6543A62B8ED9... 2C0E91FF20A856C89... 0.5     CSH          2013-01-07 18:24:11 1         0          0            12           CMT      \n",
        "2013-01-07 23:58:20 40.759388        -73.984734        51EE87E3205C985EF... DFD2202EE08F7A8DC... 2               2013-01-07 23:54:15 40.759945       -73.974602       1         N                  .70           244               CMT       5           51EE87E3205C985EF... DFD2202EE08F7A8DC... 0.5     CSH          2013-01-07 23:54:15 0.5       0          0            6            CMT      \n",
        "2013-01-07 23:58:20 40.759388        -73.984734        51EE87E3205C985EF... DFD2202EE08F7A8DC... 2               2013-01-07 23:54:15 40.759945       -73.974602       1         N                  .70           244               CMT       9.5         51EE87E3205C985EF... DFD2202EE08F7A8DC... 0.5     CSH          2013-01-07 23:25:03 0.5       0          0            10.5         CMT      \n",
        "2013-01-07 23:34:24 40.747868        -74.002586        51EE87E3205C985EF... DFD2202EE08F7A8DC... 1               2013-01-07 23:25:03 40.748528       -73.97625        1         N                  2.10          560               CMT       5           51EE87E3205C985EF... DFD2202EE08F7A8DC... 0.5     CSH          2013-01-07 23:54:15 0.5       0          0            6            CMT      \n",
        "2013-01-07 23:34:24 40.747868        -74.002586        51EE87E3205C985EF... DFD2202EE08F7A8DC... 1               2013-01-07 23:25:03 40.748528       -73.97625        1         N                  2.10          560               CMT       9.5         51EE87E3205C985EF... DFD2202EE08F7A8DC... 0.5     CSH          2013-01-07 23:25:03 0.5       0          0            10.5         CMT      \n",
        "2013-01-08 11:08:14 40.744343        -74.007416        513189AD756FF14FE... 496644932DF393260... 1               2013-01-08 11:01:15 40.743977       -73.995804       1         N                  .80           418               CMT       6           513189AD756FF14FE... 496644932DF393260... 0.5     CSH          2013-01-08 11:01:15 0         0          0            6.5          CMT      \n",
        "2013-01-08 13:19:50 40.773815        -73.964134        06918214E951FA000... E12F6AF991172EAC3... 1               2013-01-08 13:11:52 40.773167       -73.982452       1         N                  1.30          477               CMT       7.5         06918214E951FA000... E12F6AF991172EAC3... 0.5     CSH          2013-01-08 13:11:52 0         0          0            8            CMT      \n",
        "2013-01-08 13:19:50 40.773815        -73.964134        06918214E951FA000... E12F6AF991172EAC3... 1               2013-01-08 13:11:52 40.773167       -73.982452       1         N                  1.30          477               CMT       9           06918214E951FA000... E12F6AF991172EAC3... 0.5     CSH          2013-01-08 09:50:05 0         0          0            9.5          CMT      \n",
        "2013-01-08 13:19:50 40.773815        -73.964134        06918214E951FA000... E12F6AF991172EAC3... 1               2013-01-08 13:11:52 40.773167       -73.982452       1         N                  1.30          477               CMT       7.5         06918214E951FA000... E12F6AF991172EAC3... 0.5     CSH          2013-01-08 13:29:25 0         0          0            8            CMT      \n",
        "2013-01-08 13:19:50 40.773815        -73.964134        06918214E951FA000... E12F6AF991172EAC3... 1               2013-01-08 13:11:52 40.773167       -73.982452       1         N                  1.30          477               CMT       7           06918214E951FA000... E12F6AF991172EAC3... 0.5     CSH          2013-01-08 15:17:50 0         0          0            7.5          CMT      \n",
        "2013-01-08 10:02:54 40.759052        -73.988686        06918214E951FA000... E12F6AF991172EAC3... 1               2013-01-08 09:50:05 40.749294       -73.99556        1         N                  .70           768               CMT       7.5         06918214E951FA000... E12F6AF991172EAC3... 0.5     CSH          2013-01-08 13:11:52 0         0          0            8            CMT      \n",
        "2013-01-08 10:02:54 40.759052        -73.988686        06918214E951FA000... E12F6AF991172EAC3... 1               2013-01-08 09:50:05 40.749294       -73.99556        1         N                  .70           768               CMT       9           06918214E951FA000... E12F6AF991172EAC3... 0.5     CSH          2013-01-08 09:50:05 0         0          0            9.5          CMT      \n",
        "2013-01-08 10:02:54 40.759052        -73.988686        06918214E951FA000... E12F6AF991172EAC3... 1               2013-01-08 09:50:05 40.749294       -73.99556        1         N                  .70           768               CMT       7.5         06918214E951FA000... E12F6AF991172EAC3... 0.5     CSH          2013-01-08 13:29:25 0         0          0            8            CMT      \n",
        "2013-01-08 10:02:54 40.759052        -73.988686        06918214E951FA000... E12F6AF991172EAC3... 1               2013-01-08 09:50:05 40.749294       -73.99556        1         N                  .70           768               CMT       7           06918214E951FA000... E12F6AF991172EAC3... 0.5     CSH          2013-01-08 15:17:50 0         0          0            7.5          CMT      \n"
       ]
      }
     ],
     "prompt_number": 122
    },
    {
     "cell_type": "heading",
     "level": 4,
     "metadata": {},
     "source": [
      "# Feature engineering"
     ]
    },
    {
     "cell_type": "code",
     "collapsed": false,
     "input": [
      "results = sqlContext.sql(\"SELECT tip_class, COUNT(*) AS tip_freq FROM (SELECT CASE         WHEN (tip_amount = 0) THEN 0        WHEN (tip_amount > 0 AND tip_amount <= 5) THEN 1        WHEN (tip_amount > 5 AND tip_amount <= 10) THEN 2        WHEN (tip_amount > 10 AND tip_amount <= 20) THEN 3        ELSE 4     END AS tip_class FROM Fares) tc GROUP BY tip_class\");\n",
      "\n",
      "results.show()\n",
      "results.printSchema()\n",
      "import matplotlib.pyplot as plt\n",
      "\n",
      "%matplotlib inline\n",
      "import matplotlib.pyplot as plt\n",
      "\n",
      "pd = results.toPandas()\n",
      "plt.plot(pd)\n",
      "plt.show()\n"
     ],
     "language": "python",
     "metadata": {},
     "outputs": [
      {
       "output_type": "stream",
       "stream": "stdout",
       "text": [
        "tip_class tip_freq\n",
        "0         365     \n",
        "1         140     \n",
        "2         12      \n",
        "4         1       \n",
        "root\n",
        " |-- tip_class: integer (nullable = false)\n",
        " |-- tip_freq: long (nullable = false)\n",
        "\n"
       ]
      },
      {
       "metadata": {},
       "output_type": "display_data",
       "png": "[encoded data removed]",
       "text": [
        "<matplotlib.figure.Figure at 0xe571b38>"
       ]
      }
     ],
     "prompt_number": 135
    },
    {
     "cell_type": "code",
     "collapsed": false,
     "input": [
      "sqlStatement = \"\"\"SELECT f.payment_type, \n",
      "f.fare_amount, \n",
      "f.surcharge, \n",
      "f.mta_tax, \n",
      "f.tolls_amount,  \n",
      "f.total_amount, \n",
      "f.tip_amount,\n",
      "    CASE WHEN (tip_amount > 0) THEN 1 ELSE 0 END AS tipped,\n",
      "    CASE WHEN (tip_amount = 0) THEN 0\n",
      "        WHEN (tip_amount > 0 AND tip_amount <= 5) THEN 1\n",
      "        WHEN (tip_amount > 5 AND tip_amount <= 10) THEN 2\n",
      "        WHEN (tip_amount > 10 AND tip_amount <= 20) THEN 3\n",
      "        ELSE 4\n",
      "    END AS tip_class\n",
      "FROM Trips t,Fares f\n",
      "WHERE t.medallion = f.medallion\n",
      "AND   t.hack_license = f.hack_license\n",
      "AND   t.pickup_datetime = f.pickup_datetime\n",
      "AND   pickup_longitude != '0' AND dropoff_longitude != '0'\n",
      "\"\"\"\n",
      "\n",
      "results = sqlContext.sql(sqlStatement)\n",
      "\n",
      "results.show()    \n",
      "results.printSchema()"
     ],
     "language": "python",
     "metadata": {},
     "outputs": [
      {
       "output_type": "stream",
       "stream": "stdout",
       "text": [
        "payment_type fare_amount surcharge mta_tax tolls_amount total_amount tip_amount tipped tip_class\n",
        "CSH          6.5         0         0.5     0            7            0          0      0        \n",
        "CSH          9.5         0.5       0.5     0            10.5         0          0      0        \n",
        "CSH          5           0.5       0.5     0            6            0          0      0        \n",
        "CSH          5.5         1         0.5     0            7            0          0      0        \n",
        "CSH          9           0         0.5     0            9.5          0          0      0        \n",
        "CSH          7.5         0         0.5     0            8            0          0      0        \n",
        "CSH          13          0         0.5     0            13.5         0          0      0        \n",
        "CSH          5.5         1         0.5     0            7            0          0      0        \n",
        "CSH          6           0         0.5     0            6.5          0          0      0        \n",
        "CSH          10          0         0.5     0            10.5         0          0      0        \n",
        "CSH          9.5         0         0.5     0            10           0          0      0        \n",
        "CSH          6           0.5       0.5     0            7            0          0      0        \n",
        "CSH          9.5         0         0.5     0            10           0          0      0        \n",
        "CSH          34          0         0.5     4.8          39.3         0          0      0        \n",
        "root\n",
        " |-- payment_type: string (nullable = true)\n",
        " |-- fare_amount: string (nullable = true)\n",
        " |-- surcharge: string (nullable = true)\n",
        " |-- mta_tax: string (nullable = true)\n",
        " |-- tolls_amount: string (nullable = true)\n",
        " |-- total_amount: string (nullable = true)\n",
        " |-- tip_amount: string (nullable = true)\n",
        " |-- tipped: integer (nullable = false)\n",
        " |-- tip_class: integer (nullable = false)\n",
        "\n"
       ]
      }
     ],
     "prompt_number": 86
    },
    {
     "cell_type": "heading",
     "level": 4,
     "metadata": {},
     "source": [
      "# Build and evaluate classification model"
     ]
    },
    {
     "cell_type": "code",
     "collapsed": false,
     "input": [
      "from pyspark.mllib.classification import LogisticRegressionWithLBFGS\n",
      "from pyspark.mllib.regression import LabeledPoint\n",
      "from numpy import array\n",
      "\n",
      "# Build training set\n",
      "def parseRow(line):\n",
      "    return LabeledPoint(line.tip_class, [line.tolls_amount, line.fare_amount, line.mta_tax, line.total_amount])\n",
      "\n",
      "parsedData = results.map(parseRow)\n",
      "\n",
      "# Build the model\n",
      "model = LogisticRegressionWithLBFGS.train(parsedData)\n",
      "# Evaluate the model\n",
      "labelsAndPreds = parsedData.map(lambda p: (p.label, model.predict(p.features)))\n",
      "trainErr = labelsAndPreds.filter(lambda (v, p): v != p).count() / float(parsedData.count())\n",
      "print(\"Training Error = \" + str(trainErr))"
     ],
     "language": "python",
     "metadata": {},
     "outputs": [
      {
       "output_type": "stream",
       "stream": "stdout",
       "text": [
        "Training Error = 0.0\n"
       ]
      }
     ],
     "prompt_number": 120
    },
    {
     "cell_type": "code",
     "collapsed": false,
     "input": [
      "#from pyspark import SparkConf\n",
      "from pyspark import SparkContext\n",
      "SparkContext.setSystemProperty('spark.executor.memory', '2g')\n",
      "#SparkContext(\"local\", \"App Name\")\n",
      "sc.getLocalProperty('spark.executor.memory')\n"
     ],
     "language": "python",
     "metadata": {},
     "outputs": [],
     "prompt_number": 105
    }
   ],
   "metadata": {}
  }
 ]
}