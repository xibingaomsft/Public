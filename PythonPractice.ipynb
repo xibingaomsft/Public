{
 "metadata": {
  "name": "",
  "signature": "sha256:94d7d8bdd25a377a3388c732289c3f4c20eb4ec2f0f804201e88ff4c04972356"
 },
 "nbformat": 3,
 "nbformat_minor": 0,
 "worksheets": [
  {
   "cells": [
    {
     "cell_type": "heading",
     "level": 3,
     "metadata": {},
     "source": [
      "Examples for map, filter, and reduce in Python"
     ]
    },
    {
     "cell_type": "code",
     "collapsed": false,
     "input": [
      "\n",
      "items = range(1, 6)\n",
      "squared =[]\n",
      "for x in items:\n",
      "    squared.append(x**2)\n",
      "\n",
      "def sqr(x):\n",
      "    return x **2\n",
      "\n",
      "list(map(sqr, items))\n",
      "list(map((lambda p: p**2), items))\n",
      "\n",
      "def square(x):\n",
      "    return (x**2)\n",
      "def cube(x):\n",
      "    return (x**3)\n",
      "funcs=[square, cube]\n",
      "for r in range(5):\n",
      "    value=map(lambda x: x(r), funcs)\n",
      "    print value\n",
      "\n",
      "def mymap(aFunc, aSeq):\n",
      "    result=[]\n",
      "    for x in aSeq:\n",
      "        result.append(aFunc(x))\n",
      "    return result\n",
      "list(map(sqr, [1,2,3]))\n",
      "mymap(sqr, [1,2,3])\n",
      "\n",
      "map((lambda i : (i, 1) ), [1,2,3])\n",
      "list(range(-5, 5))\n",
      "\n",
      "list(filter((lambda x: x<0), range(-5,5)))\n",
      "\n",
      "from functools import reduce\n",
      "reduce((lambda x,y:x+y), [1,2,3,4])\n"
     ],
     "language": "python",
     "metadata": {},
     "outputs": [
      {
       "output_type": "stream",
       "stream": "stdout",
       "text": [
        "[0, 0]\n",
        "[1, 1]\n",
        "[4, 8]\n",
        "[9, 27]\n",
        "[16, 64]\n"
       ]
      },
      {
       "metadata": {},
       "output_type": "pyout",
       "prompt_number": 25,
       "text": [
        "10"
       ]
      }
     ],
     "prompt_number": 25
    }
   ],
   "metadata": {}
  }
 ]
}